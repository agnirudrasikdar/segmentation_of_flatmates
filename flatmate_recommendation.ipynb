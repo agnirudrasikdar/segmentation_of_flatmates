{
 "cells": [
  {
   "cell_type": "code",
   "execution_count": null,
   "metadata": {},
   "outputs": [],
   "source": [
    "import pandas as pd\n",
    "import numpy as np\n",
    "import json"
   ]
  },
  {
   "cell_type": "code",
   "execution_count": null,
   "metadata": {},
   "outputs": [],
   "source": [
    "from numpy import arange\n",
    "\n",
    "import matplotlib.pyplot as plt\n",
    "%matplotlib inline\n",
    "import seaborn as sns\n",
    "\n",
    "from sklearn.cluster import KMeans\n",
    "from sklearn.decomposition import PCA\n",
    "import plotly.graph_objs as go\n",
    "from plotly.offline import init_notebook_mode, iplot\n",
    "init_notebook_mode()"
   ]
  },
  {
   "cell_type": "code",
   "execution_count": null,
   "metadata": {},
   "outputs": [],
   "source": [
    "house_search_df = pd.read_csv('House_search_responses.csv')"
   ]
  },
  {
   "cell_type": "code",
   "execution_count": null,
   "metadata": {
    "scrolled": true
   },
   "outputs": [],
   "source": [
    "house_search_df.columns"
   ]
  },
  {
   "cell_type": "code",
   "execution_count": null,
   "metadata": {},
   "outputs": [],
   "source": [
    "house_search_df = house_search_df[['1.Name','2.What is your preferred living arrangement?',\n",
    "       '3.What neighbourhoods are you looking into?',\n",
    "       '4.What price range are you looking for?',\n",
    "       '5.Are you looking for decorated apartments?',\n",
    "       '6.With how many IESEans do you wish to share?','7.What is your gender?',\n",
    "       '8.How do you feel about roommates throwing parties at home?',\n",
    "       '9.How do you feel about smokers?', '10.What about guests?',\n",
    "       '11.What are your interests?'\n",
    "        ]]\n",
    "\n",
    "house_search_df.rename(columns={'1.Name':'Name','2.What is your preferred living arrangement?':'Apartment_type',\n",
    "       '3.What neighbourhoods are you looking into?':'Neighbourhood',\n",
    "       '4.What price range are you looking for?':'Price_preference',\n",
    "       '5.Are you looking for decorated apartments?':'Furnishing_preference',\n",
    "       '6.With how many IESEans do you wish to share?':'Sharing_quantity','7.What is your gender?':'Gender_preference',\n",
    "       '8.How do you feel about roommates throwing parties at home?':'Party_preference',\n",
    "       '9.How do you feel about smokers?':'Smoking_preference', '10.What about guests?':'Guest_preference',\n",
    "       '11.What are your interests?':'Interests'}, inplace=True)"
   ]
  },
  {
   "cell_type": "code",
   "execution_count": null,
   "metadata": {},
   "outputs": [],
   "source": [
    "house_search_df['First_Name'] = house_search_df['Name'].str.split(' ', expand=True)[0]\n",
    "house_search_df['Last_Name'] = house_search_df['Name'].str.split(' ', expand=True)[1]"
   ]
  },
  {
   "cell_type": "code",
   "execution_count": null,
   "metadata": {},
   "outputs": [],
   "source": [
    "house_search_df.head(5)"
   ]
  },
  {
   "cell_type": "code",
   "execution_count": null,
   "metadata": {},
   "outputs": [],
   "source": [
    "print(\"Total Number of rows in the response sheet\", len(house_search_df))"
   ]
  },
  {
   "cell_type": "code",
   "execution_count": null,
   "metadata": {},
   "outputs": [],
   "source": [
    "#Types of datatypes for each columns\n",
    "house_search_df.dtypes"
   ]
  },
  {
   "cell_type": "markdown",
   "metadata": {},
   "source": [
    "# Exploratory Analysis"
   ]
  },
  {
   "cell_type": "code",
   "execution_count": null,
   "metadata": {},
   "outputs": [],
   "source": [
    "responses_df = house_search_df.copy()"
   ]
  },
  {
   "cell_type": "code",
   "execution_count": null,
   "metadata": {},
   "outputs": [],
   "source": [
    "column_list = responses_df.columns"
   ]
  },
  {
   "cell_type": "code",
   "execution_count": null,
   "metadata": {},
   "outputs": [],
   "source": [
    "#Choosing columns that are object and convert it into category. \n",
    "#This step is needed to map the categories into numerical values\n",
    "column_list"
   ]
  },
  {
   "cell_type": "code",
   "execution_count": null,
   "metadata": {},
   "outputs": [],
   "source": [
    "mappedDictionary={}\n",
    "for column_names in column_list[1:11]:\n",
    "    #This step converts objects -> category\n",
    "    responses_df[column_names] = responses_df[column_names].astype('category')\n",
    "    \n",
    "    #This step encodes the categorical values into numerical keys. \n",
    "    ''' For example\n",
    "    \"0\": \"a. Living alone\",\n",
    "    \"1\": \"b. Living with partner\",\n",
    "    \"2\": \"c. Sharing with classmates\"\n",
    "    '''\n",
    "    \n",
    "    #This step stores the mapped keys to the dictionary\n",
    "    mappedDictionary[\"dict_{0}\".format(column_names)]=dict(enumerate(responses_df[column_names].astype('category').cat.categories))\n",
    "    \n",
    "    responses_df[column_names] = responses_df[column_names].cat.codes"
   ]
  },
  {
   "cell_type": "code",
   "execution_count": null,
   "metadata": {},
   "outputs": [],
   "source": [
    "responses_df.head()"
   ]
  },
  {
   "cell_type": "markdown",
   "metadata": {},
   "source": [
    "## Printing the Mapped results\n",
    "\n",
    "- This gives the encoded values"
   ]
  },
  {
   "cell_type": "code",
   "execution_count": null,
   "metadata": {},
   "outputs": [],
   "source": [
    "json_map_results = (json.dumps(mappedDictionary, indent=4, sort_keys=True))"
   ]
  },
  {
   "cell_type": "code",
   "execution_count": null,
   "metadata": {},
   "outputs": [],
   "source": [
    "print(json_map_results)"
   ]
  },
  {
   "cell_type": "markdown",
   "metadata": {},
   "source": [
    "## How are the responses stacked for each category"
   ]
  },
  {
   "cell_type": "code",
   "execution_count": null,
   "metadata": {},
   "outputs": [],
   "source": [
    "plt.figure(figsize=(20,9))\n",
    "sns.set(font_scale=2)\n",
    "plt.title('What type of sharing is preferred the most?')\n",
    "sns.barplot(x=house_search_df['Apartment_type'].value_counts().index, y=house_search_df['Apartment_type'].value_counts())\n",
    "plt.xlabel(\"Sharing type\")\n",
    "plt.ylabel(\"Number of Responses\")"
   ]
  },
  {
   "cell_type": "markdown",
   "metadata": {},
   "source": [
    " ## Mapping of the neighhbourhoods\n",
    " "
   ]
  },
  {
   "cell_type": "code",
   "execution_count": null,
   "metadata": {},
   "outputs": [],
   "source": [
    "plt.figure(figsize=(15,10))\n",
    "sns.set(font_scale=2)\n",
    "plt.title('Which is the most favoured neighbourhood to live?')\n",
    "sns.barplot(x=responses_df['Neighbourhood'].value_counts().index, y=house_search_df['Neighbourhood'].value_counts())\n",
    "plt.xlabel(\"Neighbourhoods\")\n",
    "plt.ylabel(\"Number of Responses\")\n",
    "(mappedDictionary.get('dict_Neighbourhood'))"
   ]
  },
  {
   "cell_type": "markdown",
   "metadata": {},
   "source": [
    "## What type of Pricing is preferred the most"
   ]
  },
  {
   "cell_type": "code",
   "execution_count": null,
   "metadata": {
    "scrolled": false
   },
   "outputs": [],
   "source": [
    "plt.figure(figsize=(15,9))\n",
    "sns.set(font_scale=2)\n",
    "plt.title('What type of Pricing for the accomodation is preferred the most?')\n",
    "sns.barplot(x=responses_df['Price_preference'].value_counts().index, y=responses_df['Price_preference'].value_counts())\n",
    "plt.xlabel(\"Price Preference Category\")\n",
    "plt.ylabel(\"Number of Responses\")\n",
    "print('The Mappings are value is\\n')\n",
    "(mappedDictionary.get('dict_Price_preference'))"
   ]
  },
  {
   "cell_type": "markdown",
   "metadata": {},
   "source": [
    "# What type of Furnishing is preferred the most"
   ]
  },
  {
   "cell_type": "code",
   "execution_count": null,
   "metadata": {},
   "outputs": [],
   "source": [
    "plt.figure(figsize=(15,9))\n",
    "sns.set(font_scale=2)\n",
    "plt.title('Is furnished apartment the best choice?')\n",
    "sns.barplot(x=responses_df['Furnishing_preference'].value_counts().index, y=responses_df['Furnishing_preference'].value_counts())\n",
    "plt.xlabel(\"Price Preference Category\")\n",
    "plt.ylabel(\"Number of Responses\")\n",
    "print('The Mappings are value is\\n')\n",
    "(mappedDictionary.get('dict_Furnishing_preference'))"
   ]
  },
  {
   "cell_type": "markdown",
   "metadata": {},
   "source": [
    "# Sharing Prefrence"
   ]
  },
  {
   "cell_type": "code",
   "execution_count": null,
   "metadata": {},
   "outputs": [],
   "source": [
    "plt.figure(figsize=(15,9))\n",
    "sns.set(font_scale=2)\n",
    "plt.title('How many people do you want to share your apartment with?')\n",
    "sns.barplot(x=responses_df['Sharing_quantity'].value_counts().index, y=responses_df['Sharing_quantity'].value_counts())\n",
    "plt.xlabel(\"Sharing_quantity Category\")\n",
    "plt.ylabel(\"Number of Responses\")\n",
    "print('The Mappings are value is\\n')\n",
    "(mappedDictionary.get('dict_Sharing_quantity'))[-1] = 'No response'\n",
    "(mappedDictionary.get('dict_Sharing_quantity'))"
   ]
  },
  {
   "cell_type": "code",
   "execution_count": null,
   "metadata": {},
   "outputs": [],
   "source": [
    "plt.figure(figsize=(15,9))\n",
    "sns.set(font_scale=2)\n",
    "plt.title('Do you like sharing with other genders?')\n",
    "sns.barplot(x=responses_df['Gender_preference'].value_counts().index, y=responses_df['Gender_preference'].value_counts())\n",
    "plt.xlabel(\"Gender_preference Category\")\n",
    "plt.ylabel(\"Number of Responses\")\n",
    "print('The Mappings are value is\\n')\n",
    "(mappedDictionary.get('dict_Gender_preference'))[-1] = 'No response'\n",
    "(mappedDictionary.get('dict_Gender_preference'))"
   ]
  },
  {
   "cell_type": "code",
   "execution_count": null,
   "metadata": {},
   "outputs": [],
   "source": [
    "plt.figure(figsize=(15,9))\n",
    "sns.set(font_scale=2)\n",
    "plt.title('What type of Party_preference is preferred the most?')\n",
    "sns.barplot(x=responses_df['Party_preference'].value_counts().index, y=responses_df['Party_preference'].value_counts())\n",
    "plt.xlabel(\"Party_preference Category\")\n",
    "plt.ylabel(\"Number of Responses\")\n",
    "print('The Mappings are value is\\n')\n",
    "(mappedDictionary.get('dict_Party_preference'))[-1] = 'No response'\n",
    "(mappedDictionary.get('dict_Party_preference'))"
   ]
  },
  {
   "cell_type": "code",
   "execution_count": null,
   "metadata": {},
   "outputs": [],
   "source": [
    "plt.figure(figsize=(15,9))\n",
    "sns.set(font_scale=2)\n",
    "plt.title('Do you want to live with smokers?')\n",
    "sns.barplot(x=responses_df['Smoking_preference'].value_counts().index, y=responses_df['Smoking_preference'].value_counts())\n",
    "plt.xlabel(\"Smoking_preference Category\")\n",
    "plt.ylabel(\"Number of Responses\")\n",
    "print('The Mappings are value is\\n')\n",
    "(mappedDictionary.get('dict_Smoking_preference'))[-1] = 'No response'\n",
    "(mappedDictionary.get('dict_Smoking_preference'))"
   ]
  },
  {
   "cell_type": "code",
   "execution_count": null,
   "metadata": {},
   "outputs": [],
   "source": [
    "plt.figure(figsize=(15,9))\n",
    "sns.set(font_scale=2)\n",
    "plt.title('Are guests fine to visit the apartment?')\n",
    "sns.barplot(x=responses_df['Guest_preference'].value_counts().index, y=responses_df['Guest_preference'].value_counts())\n",
    "plt.xlabel(\"Guest_preference Category\")\n",
    "plt.ylabel(\"Number of Responses\")\n",
    "print('The Mappings are value is\\n')\n",
    "(mappedDictionary.get('dict_Guest_preference'))[-1] = 'No response'\n",
    "(mappedDictionary.get('dict_Guest_preference'))"
   ]
  },
  {
   "cell_type": "code",
   "execution_count": null,
   "metadata": {},
   "outputs": [],
   "source": [
    "plt.figure(figsize=(40,9))\n",
    "sns.set(font_scale=2)\n",
    "plt.title('What type of Interests is preferred the most?')\n",
    "sns.barplot(x=responses_df['Interests'].value_counts().index, y=responses_df['Interests'].value_counts())\n",
    "plt.xlabel(\"Interests Category\")\n",
    "plt.ylabel(\"Responses\")\n",
    "print('The Mappings are value is\\n')\n",
    "(mappedDictionary.get('dict_Interests'))[-1] = 'No response'\n",
    "(mappedDictionary.get('dict_Interests'))"
   ]
  },
  {
   "cell_type": "markdown",
   "metadata": {},
   "source": [
    "# Using Clustering Approach to segment user groups\n",
    "\n",
    "- K Means clustering is used as the preferred choice for segmenting the clusters in an unsupervised way"
   ]
  },
  {
   "cell_type": "code",
   "execution_count": null,
   "metadata": {},
   "outputs": [],
   "source": [
    "transpose_flatmatePreferences = pd.get_dummies(data=house_search_df, columns=['Apartment_type', 'Neighbourhood', 'Price_preference',\n",
    "       'Furnishing_preference', 'Sharing_quantity', 'Gender_preference',\n",
    "       'Party_preference', 'Smoking_preference', 'Guest_preference',\n",
    "       'Interests'])"
   ]
  },
  {
   "cell_type": "markdown",
   "metadata": {},
   "source": [
    "## Show columns with Null / NaN values\n",
    "\n",
    "- Removing the columns for Names using dropNa, else we would have replaces by 0 if the names value was present"
   ]
  },
  {
   "cell_type": "code",
   "execution_count": null,
   "metadata": {},
   "outputs": [],
   "source": [
    "transpose_flatmatePreferences.isnull().sum()"
   ]
  },
  {
   "cell_type": "code",
   "execution_count": null,
   "metadata": {},
   "outputs": [],
   "source": [
    "transpose_flatmatePreferences = transpose_flatmatePreferences.dropna()"
   ]
  },
  {
   "cell_type": "code",
   "execution_count": null,
   "metadata": {},
   "outputs": [],
   "source": [
    "# To generate random hex colors\n",
    "import random\n",
    "r = lambda: random.randint(0,255)"
   ]
  },
  {
   "cell_type": "code",
   "execution_count": null,
   "metadata": {},
   "outputs": [],
   "source": [
    "# Using this function to select the closest lower odd number. This will be used to create clusters\n",
    "def round_up_to_odd(f):\n",
    "    f = int(np.ceil(f))\n",
    "    return f - 1 if f % 2 == 0 else f"
   ]
  },
  {
   "cell_type": "code",
   "execution_count": null,
   "metadata": {},
   "outputs": [],
   "source": [
    "cluster = KMeans(n_clusters=round_up_to_odd(len(transpose_flatmatePreferences)/5))"
   ]
  },
  {
   "cell_type": "code",
   "execution_count": null,
   "metadata": {},
   "outputs": [],
   "source": [
    "# Adding 1 to initiate the clusters from 1 onwards instead of 0\n",
    "transpose_flatmatePreferences['cluster'] = cluster.fit_predict(transpose_flatmatePreferences[transpose_flatmatePreferences.columns[3:]]) + 1 "
   ]
  },
  {
   "cell_type": "code",
   "execution_count": null,
   "metadata": {},
   "outputs": [],
   "source": [
    "transpose_flatmatePreferences.head(5)"
   ]
  },
  {
   "cell_type": "markdown",
   "metadata": {},
   "source": [
    "## Introducing PCA to reduce dimensionality"
   ]
  },
  {
   "cell_type": "code",
   "execution_count": null,
   "metadata": {},
   "outputs": [],
   "source": [
    "cols = transpose_flatmatePreferences.columns[3:]"
   ]
  },
  {
   "cell_type": "code",
   "execution_count": null,
   "metadata": {},
   "outputs": [],
   "source": [
    "pca = PCA(n_components= 2)\n",
    "\n",
    "transpose_flatmatePreferences['x'] = pca.fit_transform(transpose_flatmatePreferences[cols])[:,0]\n",
    "transpose_flatmatePreferences['y'] =  pca.fit_transform(transpose_flatmatePreferences[cols])[:,1]\n"
   ]
  },
  {
   "cell_type": "code",
   "execution_count": null,
   "metadata": {},
   "outputs": [],
   "source": [
    "segmented_flatmates = transpose_flatmatePreferences[['Name','First_Name','Last_Name','cluster','x','y']]"
   ]
  },
  {
   "cell_type": "code",
   "execution_count": null,
   "metadata": {},
   "outputs": [],
   "source": [
    "print(\"Total segments created for the flatmates \",set(segmented_flatmates.cluster))"
   ]
  },
  {
   "cell_type": "code",
   "execution_count": null,
   "metadata": {},
   "outputs": [],
   "source": [
    "def scatterPlot(ClusterNumber, studentsCluster_dataframe):\n",
    "    return(plotGraph(ClusterNumber,studentsCluster_dataframe))"
   ]
  },
  {
   "cell_type": "code",
   "execution_count": null,
   "metadata": {},
   "outputs": [],
   "source": [
    "def plotGraph(ClusterNumber, studentsCluster_dataframe):\n",
    "        plot_data = go.Scatter(x = studentsCluster_dataframe[studentsCluster_dataframe['cluster']==ClusterNumber]['x'],\n",
    "                    y = studentsCluster_dataframe[studentsCluster_dataframe['cluster']==ClusterNumber]['y'],\n",
    "                    name = \"Cluster \"+str(ClusterNumber),\n",
    "                    mode = \"markers\",\n",
    "                    marker = dict(size =10,\n",
    "                    color = '#%02X%02X%02X' % (r(),r(),r()),\n",
    "                    line = dict(width = 1, color='#%02X%02X%02X' % (r(),r(),r()) ))\n",
    "                   )\n",
    "        return plot_data"
   ]
  },
  {
   "cell_type": "code",
   "execution_count": null,
   "metadata": {},
   "outputs": [],
   "source": [
    "chart = []\n",
    "for clusterNumber in set(segmented_flatmates.cluster):\n",
    "    chart.append(scatterPlot(clusterNumber, segmented_flatmates))"
   ]
  },
  {
   "cell_type": "code",
   "execution_count": null,
   "metadata": {},
   "outputs": [],
   "source": [
    "iplot(chart)"
   ]
  },
  {
   "cell_type": "markdown",
   "metadata": {},
   "source": [
    "# Measuring the performance of the clusters\n",
    "\n",
    "- Using RMSE to calculate the performance of the clusters.\n",
    "- Lower the RMSE, the better is the performance of the cluster"
   ]
  },
  {
   "cell_type": "code",
   "execution_count": null,
   "metadata": {},
   "outputs": [],
   "source": [
    "# Run the Kmeans algorithm and get the index of data points clusters\n",
    "sse = []\n",
    "list_k = list(set(segmented_flatmates.cluster))\n",
    "\n",
    "for k in list_k[0:]:\n",
    "    km = KMeans(n_clusters=k)\n",
    "    km.fit(transpose_flatmatePreferences[transpose_flatmatePreferences.columns[3:]])\n",
    "    sse.append(km.inertia_)\n",
    "\n",
    "# Plot sse against k\n",
    "plt.figure(figsize=(15, 6))\n",
    "plt.plot(list_k[0:], sse, '-o')\n",
    "plt.title('How RMSE changes with number of clusters')\n",
    "plt.xlabel(r'Number of clusters *k*')\n",
    "plt.ylabel('Sum of squared distance')\n",
    "print('Lower the RMSE, the better is the performance of the cluster')"
   ]
  },
  {
   "cell_type": "markdown",
   "metadata": {},
   "source": [
    "## Displaying first 5 names in the segment"
   ]
  },
  {
   "cell_type": "code",
   "execution_count": null,
   "metadata": {},
   "outputs": [],
   "source": [
    "segmented_flatmates.sort_values(by=['cluster']).head()"
   ]
  },
  {
   "cell_type": "markdown",
   "metadata": {},
   "source": [
    "# Storing the results as csv"
   ]
  },
  {
   "cell_type": "code",
   "execution_count": null,
   "metadata": {},
   "outputs": [],
   "source": [
    "transpose_flatmatePreferences.to_csv(\"students_preference_matrix.csv\")\n",
    "\n",
    "segmented_flatmates = segmented_flatmates.sort_values(by=['cluster'])\n",
    "\n",
    "segmented_flatmates.to_csv('flatmate_clusters.csv')"
   ]
  }
 ],
 "metadata": {
  "kernelspec": {
   "display_name": "Python 3",
   "language": "python",
   "name": "python3"
  },
  "language_info": {
   "codemirror_mode": {
    "name": "ipython",
    "version": 3
   },
   "file_extension": ".py",
   "mimetype": "text/x-python",
   "name": "python",
   "nbconvert_exporter": "python",
   "pygments_lexer": "ipython3",
   "version": "3.7.2"
  }
 },
 "nbformat": 4,
 "nbformat_minor": 2
}
